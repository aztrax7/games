{
  "nbformat": 4,
  "nbformat_minor": 0,
  "metadata": {
    "colab": {
      "provenance": [],
      "authorship_tag": "ABX9TyPtRKwsdiF1FgSXzIzxobn7",
      "include_colab_link": true
    },
    "kernelspec": {
      "name": "python3",
      "display_name": "Python 3"
    },
    "language_info": {
      "name": "python"
    }
  },
  "cells": [
    {
      "cell_type": "markdown",
      "metadata": {
        "id": "view-in-github",
        "colab_type": "text"
      },
      "source": [
        "<a href=\"https://colab.research.google.com/github/aztrax7/games/blob/main/rock_paper_scissors.ipynb\" target=\"_parent\"><img src=\"https://colab.research.google.com/assets/colab-badge.svg\" alt=\"Open In Colab\"/></a>"
      ]
    },
    {
      "cell_type": "code",
      "execution_count": 2,
      "metadata": {
        "colab": {
          "base_uri": "https://localhost:8080/"
        },
        "id": "f414bXsOg_v5",
        "outputId": "cc35a271-f2f5-47d8-9647-c6d7b83c2cbf"
      },
      "outputs": [
        {
          "output_type": "stream",
          "name": "stdout",
          "text": [
            "WELCOME TO THE ROCK PAPER SCISSORS BOT\n",
            "Select your weapon:\n",
            "Rock, Paper, Scissor?Rock\n",
            "Your choice is Rock\n",
            "Computer's choice is Paper\n",
            "Computer wins!\n"
          ]
        }
      ],
      "source": [
        "import random\n",
        "\n",
        "print(\"WELCOME TO THE ROCK PAPER SCISSORS BOT\")\n",
        "print(\"Select your weapon:\")\n",
        "Options = [\"Rock\", \"Paper\", \"Scissor\"]\n",
        "Computer = Options[random.randint(0,2)]\n",
        "Player = input(\"Rock, Paper, Scissor?\")\n",
        "print(\"Your choice is\", Player)\n",
        "print(\"Computer's choice is\", Computer)\n",
        "\n",
        "if Computer == Player:\n",
        "  print(\"It's a tie!\")\n",
        "elif ((Computer == \"Rock\") and ((Player == \"Paper\") or (Player == \"PAPER\") or (Player == \"paper\"))):\n",
        "  print(\"Player wins!\")\n",
        "elif ((Computer == \"Rock\") and ((Player == \"Scissor\") or (Player == \"SCISSOR\") or (Player == \"scissor\"))):\n",
        "  print(\"Computer wins!\")\n",
        "elif ((Computer == \"Paper\") and ((Player == \"Rock\") or (Player == \"ROCK\") or (Player == \"rock\"))):\n",
        "  print(\"Computer wins!\")\n",
        "elif ((Computer == \"Paper\") and ((Player == \"Scissor\") or (Player == \"SCISSOR\") or (Player == \"scissor\"))):\n",
        "  print(\"Player wins!\")\n",
        "elif ((Computer == \"Scissor\") and ((Player == \"Rock\") or (Player == \"ROCK\") or (Player == \"rock\"))):\n",
        "  print(\"Player wins!\")\n",
        "elif ((Computer == \"Scissor\") and ((Player == \"Paper\") or (Player == \"PAPER\") or (Player == \"paper\"))):\n",
        "  print(\"Computer Wins\")\n",
        "else:\n",
        "  print(\"Error..\")"
      ]
    }
  ]
}